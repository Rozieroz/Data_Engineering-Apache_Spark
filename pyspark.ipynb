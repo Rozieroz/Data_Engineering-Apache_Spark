{
 "cells": [
  {
   "cell_type": "markdown",
   "id": "f5354a3d",
   "metadata": {},
   "source": [
    "**Apache Spark**-  an open source analytics engine used for big data workloads and machine learning tasks.  \n",
    "    - faster than libraries like pandas and can handle larger amounts of data.  \n",
    "    - can handle both realtime data processing and batch data processing\n",
    "\n",
    "**pyspark** - Python API for spark - released in order to support the collaboration of Apache Spark and Python\n",
    "    - while Spark uses scala, pyspark uses python  \n",
    "    \n",
    "> *pip install pyspark*"
   ]
  },
  {
   "cell_type": "code",
   "execution_count": 1,
   "id": "87a9ab5d",
   "metadata": {},
   "outputs": [],
   "source": [
    "from pyspark.sql import SparkSession"
   ]
  },
  {
   "cell_type": "code",
   "execution_count": null,
   "id": "5254324e",
   "metadata": {},
   "outputs": [],
   "source": [
    "# SparkSession- an entry point to all functionality in Spark \n",
    "# .builder - sets up the session\n",
    "# .appName - helps to manage multiple sessions\n",
    "# getOrCreate - retrieves or creates a new session\n",
    "spark = SparkSession.builder.appName(\"demo_app\").getOrCreate()"
   ]
  },
  {
   "cell_type": "code",
   "execution_count": 9,
   "id": "5da9b66b",
   "metadata": {},
   "outputs": [
    {
     "name": "stderr",
     "output_type": "stream",
     "text": [
      "[Stage 7:>                                                          (0 + 1) / 1]\r"
     ]
    },
    {
     "name": "stdout",
     "output_type": "stream",
     "text": [
      "+-----------+----------+---------+---+--------------------+-----------+-----------+--------------+-----------------+---------------+\n",
      "|customer_id|first_name|last_name|age|               email|    country|postal_code|favorite_color|membership_status|account_balance|\n",
      "+-----------+----------+---------+---+--------------------+-----------+-----------+--------------+-----------------+---------------+\n",
      "|          1|  Theressa| Iscowitz| 54|tiscowitz0@flavor...|      China|       NULL|           red|         inactive|         865.36|\n",
      "|          2|    Jillie|  Schurig| 25|jschurig1@twitter...|  Indonesia|       NULL|           red|           active|        3170.18|\n",
      "|          3|     Joell|  Chardin| 67|    jchardin2@va.gov|      Chile|       NULL|          blue|          pending|        1219.96|\n",
      "|          4|   Calhoun|     Alti| 38|   calti3@oracle.com|    Finland|      21450|          blue|           active|        2390.57|\n",
      "|          5|      Nana|  Jeannet| 44|    njeannet4@vk.com|Philippines|       1679|          blue|           active|        4959.34|\n",
      "+-----------+----------+---------+---+--------------------+-----------+-----------+--------------+-----------------+---------------+\n",
      "only showing top 5 rows\n"
     ]
    },
    {
     "name": "stderr",
     "output_type": "stream",
     "text": [
      "                                                                                \r"
     ]
    }
   ],
   "source": [
    "df = spark.read.csv(\"MOCK_DATA.csv\", header= True, inferSchema=True)\n",
    "df.show(5)"
   ]
  },
  {
   "cell_type": "code",
   "execution_count": 10,
   "id": "edf2d51c",
   "metadata": {},
   "outputs": [
    {
     "name": "stdout",
     "output_type": "stream",
     "text": [
      "root\n",
      " |-- customer_id: integer (nullable = true)\n",
      " |-- first_name: string (nullable = true)\n",
      " |-- last_name: string (nullable = true)\n",
      " |-- age: integer (nullable = true)\n",
      " |-- email: string (nullable = true)\n",
      " |-- country: string (nullable = true)\n",
      " |-- postal_code: string (nullable = true)\n",
      " |-- favorite_color: string (nullable = true)\n",
      " |-- membership_status: string (nullable = true)\n",
      " |-- account_balance: double (nullable = true)\n",
      "\n"
     ]
    }
   ],
   "source": [
    "df.printSchema()"
   ]
  },
  {
   "cell_type": "code",
   "execution_count": 11,
   "id": "e1015d68",
   "metadata": {},
   "outputs": [
    {
     "data": {
      "text/plain": [
       "['customer_id',\n",
       " 'first_name',\n",
       " 'last_name',\n",
       " 'age',\n",
       " 'email',\n",
       " 'country',\n",
       " 'postal_code',\n",
       " 'favorite_color',\n",
       " 'membership_status',\n",
       " 'account_balance']"
      ]
     },
     "execution_count": 11,
     "metadata": {},
     "output_type": "execute_result"
    }
   ],
   "source": [
    "df.columns"
   ]
  },
  {
   "cell_type": "code",
   "execution_count": 12,
   "id": "eed061d0",
   "metadata": {},
   "outputs": [
    {
     "data": {
      "text/plain": [
       "[('customer_id', 'int'),\n",
       " ('first_name', 'string'),\n",
       " ('last_name', 'string'),\n",
       " ('age', 'int'),\n",
       " ('email', 'string'),\n",
       " ('country', 'string'),\n",
       " ('postal_code', 'string'),\n",
       " ('favorite_color', 'string'),\n",
       " ('membership_status', 'string'),\n",
       " ('account_balance', 'double')]"
      ]
     },
     "execution_count": 12,
     "metadata": {},
     "output_type": "execute_result"
    }
   ],
   "source": [
    "df.dtypes"
   ]
  },
  {
   "cell_type": "code",
   "execution_count": 15,
   "id": "19acb48c",
   "metadata": {},
   "outputs": [
    {
     "name": "stderr",
     "output_type": "stream",
     "text": [
      "                                                                                \r"
     ]
    },
    {
     "name": "stdout",
     "output_type": "stream",
     "text": [
      "+----------+\n",
      "|first_name|\n",
      "+----------+\n",
      "|  Theressa|\n",
      "|    Jillie|\n",
      "|     Joell|\n",
      "|   Calhoun|\n",
      "|      Nana|\n",
      "|   Bettine|\n",
      "|      Tedd|\n",
      "|      Gina|\n",
      "|   Glendon|\n",
      "|    Robbyn|\n",
      "|      Erek|\n",
      "|    Nestor|\n",
      "|     Wylma|\n",
      "|    Miriam|\n",
      "|     Lorna|\n",
      "|    Linell|\n",
      "|      Roxi|\n",
      "|     Halli|\n",
      "|   Trenton|\n",
      "|    Susann|\n",
      "+----------+\n",
      "only showing top 20 rows\n"
     ]
    }
   ],
   "source": [
    "name = df.select(\"first_name\").show()\n",
    "name"
   ]
  },
  {
   "cell_type": "code",
   "execution_count": 16,
   "id": "7e795287",
   "metadata": {},
   "outputs": [
    {
     "name": "stderr",
     "output_type": "stream",
     "text": [
      "[Stage 9:>                                                          (0 + 1) / 1]\r"
     ]
    },
    {
     "name": "stdout",
     "output_type": "stream",
     "text": [
      "+----------+-----------+\n",
      "|first_name|  last_name|\n",
      "+----------+-----------+\n",
      "|  Theressa|   Iscowitz|\n",
      "|    Jillie|    Schurig|\n",
      "|     Joell|    Chardin|\n",
      "|   Calhoun|       Alti|\n",
      "|      Nana|    Jeannet|\n",
      "|   Bettine|    Crysell|\n",
      "|      Tedd|    Hamsson|\n",
      "|      Gina|     Conway|\n",
      "|   Glendon|    Manuaud|\n",
      "|    Robbyn|    Kneesha|\n",
      "|      Erek|     Butlin|\n",
      "|    Nestor|     Strain|\n",
      "|     Wylma|    Pearson|\n",
      "|    Miriam|    Qualtro|\n",
      "|     Lorna|Francesconi|\n",
      "|    Linell|      Natte|\n",
      "|      Roxi|     Klampt|\n",
      "|     Halli|    Marczyk|\n",
      "|   Trenton|    Probbin|\n",
      "|    Susann| Le Strange|\n",
      "+----------+-----------+\n",
      "only showing top 20 rows\n"
     ]
    },
    {
     "name": "stderr",
     "output_type": "stream",
     "text": [
      "                                                                                \r"
     ]
    }
   ],
   "source": [
    "names =df.select([\"first_name\", \"last_name\"]).show()\n",
    "names"
   ]
  },
  {
   "cell_type": "code",
   "execution_count": 18,
   "id": "241aeae4",
   "metadata": {},
   "outputs": [
    {
     "name": "stderr",
     "output_type": "stream",
     "text": [
      "25/06/03 20:30:29 WARN SparkStringUtils: Truncated the string representation of a plan since it was too large. This behavior can be adjusted by setting 'spark.sql.debug.maxToStringFields'.\n",
      "[Stage 12:>                                                         (0 + 1) / 1]\r"
     ]
    },
    {
     "name": "stdout",
     "output_type": "stream",
     "text": [
      "+-------+-----------------+----------+------------+-----------------+--------------------+-----------+------------------+--------------+-----------------+------------------+\n",
      "|summary|      customer_id|first_name|   last_name|              age|               email|    country|       postal_code|favorite_color|membership_status|   account_balance|\n",
      "+-------+-----------------+----------+------------+-----------------+--------------------+-----------+------------------+--------------+-----------------+------------------+\n",
      "|  count|             1000|      1000|        1000|             1000|                1000|       1000|               434|          1000|             1000|              1000|\n",
      "|   mean|            500.5|      NULL|        NULL|           51.416|                NULL|       NULL|132730.57939914163|          NULL|             NULL| 4964.655490000004|\n",
      "| stddev|288.8194360957494|      NULL|        NULL|19.01342826673966|                NULL|       NULL|196779.76146665608|          NULL|             NULL|2928.4099963731555|\n",
      "|    min|                1|     Abdel|        Abad|               18|aaichesonbr@tumbl...|Afghanistan|            00-458|          blue|           active|              0.88|\n",
      "|    max|             1000|      Zola|des Remedios|               85|zshowersio@privac...|   Zimbabwe|               ZTN|           red|          pending|           9996.96|\n",
      "+-------+-----------------+----------+------------+-----------------+--------------------+-----------+------------------+--------------+-----------------+------------------+\n",
      "\n"
     ]
    },
    {
     "name": "stderr",
     "output_type": "stream",
     "text": [
      "                                                                                \r"
     ]
    }
   ],
   "source": [
    "df.describe().show()"
   ]
  },
  {
   "cell_type": "code",
   "execution_count": 19,
   "id": "d37de29c",
   "metadata": {},
   "outputs": [
    {
     "name": "stderr",
     "output_type": "stream",
     "text": [
      "                                                                                \r"
     ]
    },
    {
     "data": {
      "text/plain": [
       "1000"
      ]
     },
     "execution_count": 19,
     "metadata": {},
     "output_type": "execute_result"
    }
   ],
   "source": [
    "df.count()"
   ]
  },
  {
   "cell_type": "code",
   "execution_count": 23,
   "id": "c1fa72de",
   "metadata": {},
   "outputs": [
    {
     "name": "stdout",
     "output_type": "stream",
     "text": [
      "+-----------+----------+---------+---+--------------------+-----------+-----------+-----------------+---------------+\n",
      "|customer_id|first_name|last_name|age|               email|    country|postal_code|membership_status|account_balance|\n",
      "+-----------+----------+---------+---+--------------------+-----------+-----------+-----------------+---------------+\n",
      "|          1|  Theressa| Iscowitz| 54|tiscowitz0@flavor...|      China|       NULL|         inactive|         865.36|\n",
      "|          2|    Jillie|  Schurig| 25|jschurig1@twitter...|  Indonesia|       NULL|           active|        3170.18|\n",
      "|          3|     Joell|  Chardin| 67|    jchardin2@va.gov|      Chile|       NULL|          pending|        1219.96|\n",
      "|          4|   Calhoun|     Alti| 38|   calti3@oracle.com|    Finland|      21450|           active|        2390.57|\n",
      "|          5|      Nana|  Jeannet| 44|    njeannet4@vk.com|Philippines|       1679|           active|        4959.34|\n",
      "+-----------+----------+---------+---+--------------------+-----------+-----------+-----------------+---------------+\n",
      "only showing top 5 rows\n"
     ]
    }
   ],
   "source": [
    "new_df = df.drop('favorite_color')\n",
    "new_df.show(5)\n"
   ]
  },
  {
   "cell_type": "markdown",
   "id": "c8ec34bc",
   "metadata": {},
   "source": [
    "### JSON"
   ]
  },
  {
   "cell_type": "code",
   "execution_count": 30,
   "id": "b0f7c8a6",
   "metadata": {},
   "outputs": [
    {
     "name": "stderr",
     "output_type": "stream",
     "text": [
      "                                                                                \r"
     ]
    },
    {
     "name": "stdout",
     "output_type": "stream",
     "text": [
      "+--------------------+---------------+----+-------+-----------+-----------------+--------------+----------+---------+-----------------+-------------+\n",
      "|     _corrupt_record|account_balance| age|country|customer_id|            email|favorite_color|first_name|last_name|membership_status|  postal_code|\n",
      "+--------------------+---------------+----+-------+-----------+-----------------+--------------+----------+---------+-----------------+-------------+\n",
      "|[{\"customer_id\":1...|           NULL|NULL|   NULL|       NULL|             NULL|          NULL|      NULL|     NULL|             NULL|         NULL|\n",
      "|                NULL|         616.75|  60| Greece|          2|jhabbema1@epa.gov|          blue| Johnathan|  Habbema|         inactive|         NULL|\n",
      "|                NULL|        2800.91|  81| France|          3| amcpake2@mail.ru|          blue|      Audy|  Mc Pake|          pending|79083 CEDEX 9|\n",
      "+--------------------+---------------+----+-------+-----------+-----------------+--------------+----------+---------+-----------------+-------------+\n",
      "only showing top 3 rows\n"
     ]
    }
   ],
   "source": [
    "data_2 = spark.read.json(\"MOCK_DATA.json\")\n",
    "data_2.show(3)"
   ]
  },
  {
   "cell_type": "code",
   "execution_count": 29,
   "id": "dbd2a060",
   "metadata": {},
   "outputs": [
    {
     "data": {
      "text/plain": [
       "['_corrupt_record',\n",
       " 'account_balance',\n",
       " 'age',\n",
       " 'country',\n",
       " 'customer_id',\n",
       " 'email',\n",
       " 'favorite_color',\n",
       " 'first_name',\n",
       " 'last_name',\n",
       " 'membership_status',\n",
       " 'postal_code']"
      ]
     },
     "execution_count": 29,
     "metadata": {},
     "output_type": "execute_result"
    }
   ],
   "source": [
    "data_2.columns"
   ]
  },
  {
   "cell_type": "code",
   "execution_count": 32,
   "id": "b074df11",
   "metadata": {},
   "outputs": [
    {
     "name": "stderr",
     "output_type": "stream",
     "text": [
      "[Stage 30:>                                                         (0 + 1) / 1]\r"
     ]
    },
    {
     "name": "stdout",
     "output_type": "stream",
     "text": [
      "+-------+--------------------+------------------+------------------+-----------+-----------------+--------------------+--------------+----------+---------+-----------------+------------------+\n",
      "|summary|     _corrupt_record|   account_balance|               age|    country|      customer_id|               email|favorite_color|first_name|last_name|membership_status|       postal_code|\n",
      "+-------+--------------------+------------------+------------------+-----------+-----------------+--------------------+--------------+----------+---------+-----------------+------------------+\n",
      "|  count|                   1|               999|               999|        999|              999|                 999|           999|       999|      999|              999|               472|\n",
      "|   mean|                NULL| 4959.894064064061|50.068068068068065|       NULL|            501.0|                NULL|          NULL|       NaN|     NULL|             NULL| 104815.8315018315|\n",
      "| stddev|                NULL|2908.5257950515174|19.607250186886304|       NULL|288.5307609250702|                NULL|          NULL|      NULL|     NULL|             NULL|167915.30319744715|\n",
      "|    min|[{\"customer_id\":1...|              1.95|                18|Afghanistan|                2|aaleswellju@archi...|          blue|   Abagael|    Abdie|           active|            05-319|\n",
      "|    max|[{\"customer_id\":1...|           9986.73|                85|   Zimbabwe|             1000|zseiffert8w@weath...|           red|    Zulema| de Banke|          pending|               V9B|\n",
      "+-------+--------------------+------------------+------------------+-----------+-----------------+--------------------+--------------+----------+---------+-----------------+------------------+\n",
      "\n"
     ]
    },
    {
     "name": "stderr",
     "output_type": "stream",
     "text": [
      "                                                                                \r"
     ]
    }
   ],
   "source": [
    "data_2.describe().show()"
   ]
  },
  {
   "cell_type": "code",
   "execution_count": 34,
   "id": "93f3345f",
   "metadata": {},
   "outputs": [
    {
     "name": "stderr",
     "output_type": "stream",
     "text": [
      "                                                                                \r"
     ]
    },
    {
     "name": "stdout",
     "output_type": "stream",
     "text": [
      "+---------------+----+-------+-----------+-----------------+--------------+----------+---------+-----------------+-------------+\n",
      "|account_balance| age|country|customer_id|            email|favorite_color|first_name|last_name|membership_status|  postal_code|\n",
      "+---------------+----+-------+-----------+-----------------+--------------+----------+---------+-----------------+-------------+\n",
      "|           NULL|NULL|   NULL|       NULL|             NULL|          NULL|      NULL|     NULL|             NULL|         NULL|\n",
      "|         616.75|  60| Greece|          2|jhabbema1@epa.gov|          blue| Johnathan|  Habbema|         inactive|         NULL|\n",
      "|        2800.91|  81| France|          3| amcpake2@mail.ru|          blue|      Audy|  Mc Pake|          pending|79083 CEDEX 9|\n",
      "+---------------+----+-------+-----------+-----------------+--------------+----------+---------+-----------------+-------------+\n",
      "only showing top 3 rows\n"
     ]
    }
   ],
   "source": [
    "new_data = data_2.drop(\"_corrupt_record\")\n",
    "new_data.show(3)"
   ]
  },
  {
   "cell_type": "code",
   "execution_count": 36,
   "id": "be00b912",
   "metadata": {},
   "outputs": [
    {
     "name": "stderr",
     "output_type": "stream",
     "text": [
      "                                                                                \r"
     ]
    },
    {
     "name": "stdout",
     "output_type": "stream",
     "text": [
      "+---------------+---+-------------+-----------+--------------------+--------------+----------+----------+-----------------+-------------+\n",
      "|account_balance|age|      country|customer_id|               email|favorite_color|first_name| last_name|membership_status|  postal_code|\n",
      "+---------------+---+-------------+-----------+--------------------+--------------+----------+----------+-----------------+-------------+\n",
      "|         616.75| 60|       Greece|          2|   jhabbema1@epa.gov|          blue| Johnathan|   Habbema|         inactive|         NULL|\n",
      "|        2800.91| 81|       France|          3|    amcpake2@mail.ru|          blue|      Audy|   Mc Pake|          pending|79083 CEDEX 9|\n",
      "|         380.07| 39|    Indonesia|          4|ckulicke3@forbes.com|          blue| Courtenay|   Kulicke|           active|         NULL|\n",
      "|        5309.48| 50|    Indonesia|          5|vrunnett4@shutter...|           red|     Velma|   Runnett|          pending|         NULL|\n",
      "|         399.01| 66|        China|          6|wbatie5@simplemac...|         green|    Wallie|     Batie|         inactive|         NULL|\n",
      "|         3914.5| 75|        China|         13|mleppingtonc@thea...|           red|      Merv|Leppington|          pending|         NULL|\n",
      "|        3967.59| 41|      Denmark|         14|dmaccrackend@abou...|         green|    Daphna|MacCracken|           active|         1470|\n",
      "|        4000.28| 37|      Ukraine|         15|   nreynarde@hud.gov|         green|     Nolie|   Reynard|          pending|         NULL|\n",
      "|         710.34| 50|   Kazakhstan|         16|dmccrossanf@youtu...|           red|  Dominick| McCrossan|          pending|         NULL|\n",
      "|        5730.56| 78|       Sweden|         17|sdawidowskyg@tutt...|         green|    Skelly|Dawidowsky|           active|       815 36|\n",
      "|        5518.79| 55|        China|         18|      emorebyh@is.gd|           red|      Ewan|    Moreby|          pending|         NULL|\n",
      "|        6228.96| 52|United States|         20|ccabottoj@hatena....|          blue|     Chris|   Cabotto|           active|        77085|\n",
      "|        7867.53| 44|  Philippines|         22|owoodl@ezineartic...|         green|   Othilie|      Wood|         inactive|         7025|\n",
      "|        7059.28| 48|  New Zealand|         23|caubrunm@blogspot...|           red|    Carina|    Aubrun|           active|         7600|\n",
      "|        3737.02| 85|  Philippines|         26|jboyackp@google.c...|         green|   Jillian|    Boyack|         inactive|         2712|\n",
      "|        7726.94| 38|        China|         27| mheusticeq@noaa.gov|          blue|    Merell|  Heustice|         inactive|         NULL|\n",
      "|        6650.85| 71|        Kenya|         28|anormingtonr@nbcn...|         green|    Andrew|Normington|           active|         NULL|\n",
      "|        9014.77| 69|     Thailand|         30|  aeyamt@twitter.com|          blue| Armstrong|      Eyam|          pending|        93120|\n",
      "|        9404.29| 37|       Poland|         31|gfetherbyu@people...|           red|    Goldie|  Fetherby|           active|       47-150|\n",
      "|        3011.54| 37|  Philippines|         32|dainsleev@dagonde...|         green|    Daphne|   Ainslee|          pending|         2703|\n",
      "+---------------+---+-------------+-----------+--------------------+--------------+----------+----------+-----------------+-------------+\n",
      "only showing top 20 rows\n"
     ]
    }
   ],
   "source": [
    "new_data.filter(new_data[\"age\"] > 30).show()"
   ]
  },
  {
   "cell_type": "code",
   "execution_count": 39,
   "id": "fc823b78",
   "metadata": {},
   "outputs": [
    {
     "name": "stderr",
     "output_type": "stream",
     "text": [
      "[Stage 37:>                                                         (0 + 1) / 1]\r"
     ]
    },
    {
     "name": "stdout",
     "output_type": "stream",
     "text": [
      "+-----------+-----+\n",
      "|    country|count|\n",
      "+-----------+-----+\n",
      "|   Paraguay|    4|\n",
      "|     Russia|   57|\n",
      "|      Yemen|    6|\n",
      "|     Sweden|   25|\n",
      "|Philippines|   58|\n",
      "|   Malaysia|    7|\n",
      "|     Malawi|    3|\n",
      "|    Germany|    2|\n",
      "|    Comoros|    2|\n",
      "|Afghanistan|    1|\n",
      "|Ivory Coast|    2|\n",
      "|     Jordan|    2|\n",
      "|     France|   34|\n",
      "|     Greece|   12|\n",
      "|  Sri Lanka|    1|\n",
      "|       NULL|    1|\n",
      "|  Argentina|   11|\n",
      "|     Angola|    1|\n",
      "|    Belgium|    1|\n",
      "| East Timor|    1|\n",
      "+-----------+-----+\n",
      "only showing top 20 rows\n"
     ]
    },
    {
     "name": "stderr",
     "output_type": "stream",
     "text": [
      "                                                                                \r"
     ]
    }
   ],
   "source": [
    "new_data.groupBy(\"country\").count().show()"
   ]
  },
  {
   "cell_type": "code",
   "execution_count": null,
   "id": "e83c4050",
   "metadata": {},
   "outputs": [],
   "source": [
    "n"
   ]
  }
 ],
 "metadata": {
  "kernelspec": {
   "display_name": "pyspark_env",
   "language": "python",
   "name": "python3"
  },
  "language_info": {
   "codemirror_mode": {
    "name": "ipython",
    "version": 3
   },
   "file_extension": ".py",
   "mimetype": "text/x-python",
   "name": "python",
   "nbconvert_exporter": "python",
   "pygments_lexer": "ipython3",
   "version": "3.10.12"
  }
 },
 "nbformat": 4,
 "nbformat_minor": 5
}
